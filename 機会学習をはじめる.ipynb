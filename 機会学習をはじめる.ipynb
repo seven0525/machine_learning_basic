{
 "cells": [
  {
   "cell_type": "markdown",
   "metadata": {},
   "source": [
    "# 機械学習の概論"
   ]
  },
  {
   "cell_type": "markdown",
   "metadata": {},
   "source": [
    "### 人工知能と機械学習と深層学習の違い\n",
    "・人工知能：コンピュータに人間のような知能を持たせようとする研究分野\n",
    "\n",
    "・機械学習：与えられたデータから何か新しい特徴を見出す人工知能の主な能力、研究\n",
    "\n",
    "・深層学習：機械学習の１つの手法\n",
    "\n",
    "\n",
    "### データサイエンティストに必要な能力\n",
    "・コンピュータサイエンス：Pythonなどのプログラミングスキル（サーバーサイドやクラウド二関する能力も昨今重要視）\n",
    "・数理統計：こういう場合は、どの手法が適切か、どう前処理すべきかなど\n",
    "・ドメイン専門性：これがないと、データの表す背景がイメージできなかったりして､分析が課題解決にまで至らない。（￥受託開発を行う際にも､関係者への入念なヒアリングが求められる｡）\n",
    "\n",
    "データサイエンスを生業とするデータサイエンティストを目指すのであれば､3つの要素すべてにおいてある程度のレベルに達していることが求められます｡"
   ]
  },
  {
   "cell_type": "markdown",
   "metadata": {},
   "source": [
    "# 代表的な手法"
   ]
  },
  {
   "cell_type": "markdown",
   "metadata": {},
   "source": [
    "### 教師あり学習\n",
    "正解が与えられたデータで学習  \n",
    "・回帰（連続値の予測をする）   \n",
    "・分類（所属クラスの予測をする）   \n",
    "\n",
    "### 教師なし学習\n",
    "正解が与えられてないデータで学習  \n",
    "・クラスタリング  \n",
    "・主成分分析  \n",
    "\n",
    "### 強化学習\n",
    "エージェントが自身の報酬を最大化させることを目指して学習する手法  \n",
    "・AlphaGo  "
   ]
  },
  {
   "cell_type": "markdown",
   "metadata": {},
   "source": [
    "# 全体的な作業イメージ\n",
    "\n",
    "![](images/pic.png)"
   ]
  },
  {
   "cell_type": "code",
   "execution_count": null,
   "metadata": {},
   "outputs": [],
   "source": []
  }
 ],
 "metadata": {
  "kernelspec": {
   "display_name": "Python 3",
   "language": "python",
   "name": "python3"
  },
  "language_info": {
   "codemirror_mode": {
    "name": "ipython",
    "version": 3
   },
   "file_extension": ".py",
   "mimetype": "text/x-python",
   "name": "python",
   "nbconvert_exporter": "python",
   "pygments_lexer": "ipython3",
   "version": "3.6.4"
  }
 },
 "nbformat": 4,
 "nbformat_minor": 2
}
